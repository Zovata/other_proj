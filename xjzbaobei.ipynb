{
 "cells": [
  {
   "cell_type": "code",
   "execution_count": 2,
   "id": "initial_id",
   "metadata": {
    "collapsed": true,
    "ExecuteTime": {
     "end_time": "2024-12-22T13:58:21.426852Z",
     "start_time": "2024-12-22T13:58:21.186621Z"
    }
   },
   "outputs": [],
   "source": [
    "import pandas as pd"
   ]
  },
  {
   "cell_type": "code",
   "execution_count": 10,
   "outputs": [
    {
     "name": "stdout",
     "output_type": "stream",
     "text": [
      "当前月份: 12, 当前日期: 22\n"
     ]
    }
   ],
   "source": [
    "from datetime import datetime\n",
    "\n",
    "# 获取当前时间\n",
    "now = datetime.now()\n",
    "\n",
    "# 提取月和日\n",
    "current_month = now.month\n",
    "current_day = now.day\n",
    "\n",
    "print(f\"当前月份: {current_month}, 当前日期: {current_day}\")"
   ],
   "metadata": {
    "collapsed": false,
    "ExecuteTime": {
     "end_time": "2024-12-22T14:11:45.439879Z",
     "start_time": "2024-12-22T14:11:45.434769Z"
    }
   },
   "id": "6683582d6490b421"
  },
  {
   "cell_type": "code",
   "execution_count": 4,
   "outputs": [
    {
     "data": {
      "text/plain": "                                          Unnamed: 0 新济洲湿地公园上岛车辆信息 Unnamed: 2  \\\n0  填报单位：南京大学                    填报日期:   2024 年 12...           NaN        NaN   \n1                                               上岛时间            序号       单位名称   \n2                                           07:30:00             1        NaN   \n3                                                NaN             2        NaN   \n4                                                NaN             3        NaN   \n5                                           09:20:00             1       南京大学   \n6                                                NaN             2        NaN   \n7                                                NaN             3        NaN   \n\n    Unnamed: 3 Unnamed: 4   Unnamed: 5             Unnamed: 6  \n0          NaN        NaN          NaN                    NaN  \n1          车牌号      驾驶员姓名         联系号码  车辆型号（30吨以上需备注车与货物的重量）  \n2          NaN        NaN          NaN                    NaN  \n3          NaN        NaN          NaN                    NaN  \n4          NaN        NaN          NaN                    NaN  \n5  苏A 6 D 27 U        季丽丽  13913811908                    小客车  \n6          NaN        NaN          NaN                    NaN  \n7          NaN        NaN          NaN                    NaN  ",
      "text/html": "<div>\n<style scoped>\n    .dataframe tbody tr th:only-of-type {\n        vertical-align: middle;\n    }\n\n    .dataframe tbody tr th {\n        vertical-align: top;\n    }\n\n    .dataframe thead th {\n        text-align: right;\n    }\n</style>\n<table border=\"1\" class=\"dataframe\">\n  <thead>\n    <tr style=\"text-align: right;\">\n      <th></th>\n      <th>Unnamed: 0</th>\n      <th>新济洲湿地公园上岛车辆信息</th>\n      <th>Unnamed: 2</th>\n      <th>Unnamed: 3</th>\n      <th>Unnamed: 4</th>\n      <th>Unnamed: 5</th>\n      <th>Unnamed: 6</th>\n    </tr>\n  </thead>\n  <tbody>\n    <tr>\n      <th>0</th>\n      <td>填报单位：南京大学                    填报日期:   2024 年 12...</td>\n      <td>NaN</td>\n      <td>NaN</td>\n      <td>NaN</td>\n      <td>NaN</td>\n      <td>NaN</td>\n      <td>NaN</td>\n    </tr>\n    <tr>\n      <th>1</th>\n      <td>上岛时间</td>\n      <td>序号</td>\n      <td>单位名称</td>\n      <td>车牌号</td>\n      <td>驾驶员姓名</td>\n      <td>联系号码</td>\n      <td>车辆型号（30吨以上需备注车与货物的重量）</td>\n    </tr>\n    <tr>\n      <th>2</th>\n      <td>07:30:00</td>\n      <td>1</td>\n      <td>NaN</td>\n      <td>NaN</td>\n      <td>NaN</td>\n      <td>NaN</td>\n      <td>NaN</td>\n    </tr>\n    <tr>\n      <th>3</th>\n      <td>NaN</td>\n      <td>2</td>\n      <td>NaN</td>\n      <td>NaN</td>\n      <td>NaN</td>\n      <td>NaN</td>\n      <td>NaN</td>\n    </tr>\n    <tr>\n      <th>4</th>\n      <td>NaN</td>\n      <td>3</td>\n      <td>NaN</td>\n      <td>NaN</td>\n      <td>NaN</td>\n      <td>NaN</td>\n      <td>NaN</td>\n    </tr>\n    <tr>\n      <th>5</th>\n      <td>09:20:00</td>\n      <td>1</td>\n      <td>南京大学</td>\n      <td>苏A 6 D 27 U</td>\n      <td>季丽丽</td>\n      <td>13913811908</td>\n      <td>小客车</td>\n    </tr>\n    <tr>\n      <th>6</th>\n      <td>NaN</td>\n      <td>2</td>\n      <td>NaN</td>\n      <td>NaN</td>\n      <td>NaN</td>\n      <td>NaN</td>\n      <td>NaN</td>\n    </tr>\n    <tr>\n      <th>7</th>\n      <td>NaN</td>\n      <td>3</td>\n      <td>NaN</td>\n      <td>NaN</td>\n      <td>NaN</td>\n      <td>NaN</td>\n      <td>NaN</td>\n    </tr>\n  </tbody>\n</table>\n</div>"
     },
     "execution_count": 4,
     "metadata": {},
     "output_type": "execute_result"
    }
   ],
   "source": [
    "df1 = pd.read_excel('12月13日 南京大学登岛车辆报备.xlsx')\n",
    "df1"
   ],
   "metadata": {
    "collapsed": false,
    "ExecuteTime": {
     "end_time": "2024-12-22T14:00:18.364939Z",
     "start_time": "2024-12-22T14:00:18.233989Z"
    }
   },
   "id": "53a8d921fcb677c4"
  },
  {
   "cell_type": "code",
   "execution_count": 11,
   "outputs": [],
   "source": [
    "df1.iloc[0,0] = f'填报单位：南京大学                    填报日期:   2024 年 {current_month}月 {current_day}日'"
   ],
   "metadata": {
    "collapsed": false,
    "ExecuteTime": {
     "end_time": "2024-12-22T14:13:46.112224Z",
     "start_time": "2024-12-22T14:13:46.109602Z"
    }
   },
   "id": "cb9fe0a85f0af0fd"
  },
  {
   "cell_type": "code",
   "execution_count": 12,
   "outputs": [
    {
     "data": {
      "text/plain": "                                          Unnamed: 0 新济洲湿地公园上岛车辆信息 Unnamed: 2  \\\n0  填报单位：南京大学                    填报日期:   2024 年 12...           NaN        NaN   \n1                                               上岛时间            序号       单位名称   \n2                                           07:30:00             1        NaN   \n3                                                NaN             2        NaN   \n4                                                NaN             3        NaN   \n5                                           09:20:00             1       南京大学   \n6                                                NaN             2        NaN   \n7                                                NaN             3        NaN   \n\n    Unnamed: 3 Unnamed: 4   Unnamed: 5             Unnamed: 6  \n0          NaN        NaN          NaN                    NaN  \n1          车牌号      驾驶员姓名         联系号码  车辆型号（30吨以上需备注车与货物的重量）  \n2          NaN        NaN          NaN                    NaN  \n3          NaN        NaN          NaN                    NaN  \n4          NaN        NaN          NaN                    NaN  \n5  苏A 6 D 27 U        季丽丽  13913811908                    小客车  \n6          NaN        NaN          NaN                    NaN  \n7          NaN        NaN          NaN                    NaN  ",
      "text/html": "<div>\n<style scoped>\n    .dataframe tbody tr th:only-of-type {\n        vertical-align: middle;\n    }\n\n    .dataframe tbody tr th {\n        vertical-align: top;\n    }\n\n    .dataframe thead th {\n        text-align: right;\n    }\n</style>\n<table border=\"1\" class=\"dataframe\">\n  <thead>\n    <tr style=\"text-align: right;\">\n      <th></th>\n      <th>Unnamed: 0</th>\n      <th>新济洲湿地公园上岛车辆信息</th>\n      <th>Unnamed: 2</th>\n      <th>Unnamed: 3</th>\n      <th>Unnamed: 4</th>\n      <th>Unnamed: 5</th>\n      <th>Unnamed: 6</th>\n    </tr>\n  </thead>\n  <tbody>\n    <tr>\n      <th>0</th>\n      <td>填报单位：南京大学                    填报日期:   2024 年 12...</td>\n      <td>NaN</td>\n      <td>NaN</td>\n      <td>NaN</td>\n      <td>NaN</td>\n      <td>NaN</td>\n      <td>NaN</td>\n    </tr>\n    <tr>\n      <th>1</th>\n      <td>上岛时间</td>\n      <td>序号</td>\n      <td>单位名称</td>\n      <td>车牌号</td>\n      <td>驾驶员姓名</td>\n      <td>联系号码</td>\n      <td>车辆型号（30吨以上需备注车与货物的重量）</td>\n    </tr>\n    <tr>\n      <th>2</th>\n      <td>07:30:00</td>\n      <td>1</td>\n      <td>NaN</td>\n      <td>NaN</td>\n      <td>NaN</td>\n      <td>NaN</td>\n      <td>NaN</td>\n    </tr>\n    <tr>\n      <th>3</th>\n      <td>NaN</td>\n      <td>2</td>\n      <td>NaN</td>\n      <td>NaN</td>\n      <td>NaN</td>\n      <td>NaN</td>\n      <td>NaN</td>\n    </tr>\n    <tr>\n      <th>4</th>\n      <td>NaN</td>\n      <td>3</td>\n      <td>NaN</td>\n      <td>NaN</td>\n      <td>NaN</td>\n      <td>NaN</td>\n      <td>NaN</td>\n    </tr>\n    <tr>\n      <th>5</th>\n      <td>09:20:00</td>\n      <td>1</td>\n      <td>南京大学</td>\n      <td>苏A 6 D 27 U</td>\n      <td>季丽丽</td>\n      <td>13913811908</td>\n      <td>小客车</td>\n    </tr>\n    <tr>\n      <th>6</th>\n      <td>NaN</td>\n      <td>2</td>\n      <td>NaN</td>\n      <td>NaN</td>\n      <td>NaN</td>\n      <td>NaN</td>\n      <td>NaN</td>\n    </tr>\n    <tr>\n      <th>7</th>\n      <td>NaN</td>\n      <td>3</td>\n      <td>NaN</td>\n      <td>NaN</td>\n      <td>NaN</td>\n      <td>NaN</td>\n      <td>NaN</td>\n    </tr>\n  </tbody>\n</table>\n</div>"
     },
     "execution_count": 12,
     "metadata": {},
     "output_type": "execute_result"
    }
   ],
   "source": [
    "df1"
   ],
   "metadata": {
    "collapsed": false,
    "ExecuteTime": {
     "end_time": "2024-12-22T14:13:48.810925Z",
     "start_time": "2024-12-22T14:13:48.808225Z"
    }
   },
   "id": "86d3a8b919f8727d"
  },
  {
   "cell_type": "code",
   "execution_count": 14,
   "outputs": [],
   "source": [
    "# 将数据框导出为 Excel 文件\n",
    "file1_name = f'{current_month}月{current_day}日 南京大学登岛车辆报备.xlsx'\n",
    "df1.to_excel(file1_name)  # index=False 表示不导出行索引"
   ],
   "metadata": {
    "collapsed": false,
    "ExecuteTime": {
     "end_time": "2024-12-22T14:16:07.696521Z",
     "start_time": "2024-12-22T14:16:07.678524Z"
    }
   },
   "id": "9aa6608864a5e35a"
  },
  {
   "cell_type": "code",
   "execution_count": 56,
   "outputs": [],
   "source": [
    "from openpyxl import load_workbook\n",
    "from openpyxl import Workbook\n",
    "# 加载已有的 Excel 文件\n",
    "wb = load_workbook('12月13日 南京大学登岛车辆报备.xlsx')\n",
    "# 获取工作表\n",
    "sheet = wb['Sheet1']"
   ],
   "metadata": {
    "collapsed": false,
    "ExecuteTime": {
     "end_time": "2024-12-22T15:27:15.927832Z",
     "start_time": "2024-12-22T15:27:15.907189Z"
    }
   },
   "id": "9607658e813bc06b"
  },
  {
   "cell_type": "code",
   "execution_count": 57,
   "outputs": [
    {
     "data": {
      "text/plain": "'填报单位：南京大学                    填报日期:   2024 年 12月 13日       '"
     },
     "execution_count": 57,
     "metadata": {},
     "output_type": "execute_result"
    }
   ],
   "source": [
    "\n",
    "sheet['A2'].value"
   ],
   "metadata": {
    "collapsed": false,
    "ExecuteTime": {
     "end_time": "2024-12-22T15:27:17.344261Z",
     "start_time": "2024-12-22T15:27:17.338709Z"
    }
   },
   "id": "7179ad6c18df7359"
  },
  {
   "cell_type": "code",
   "execution_count": 58,
   "outputs": [],
   "source": [
    "sheet['A2'] = f'填报单位：南京大学                    填报日期:   2024 年 {current_month}月 {current_day}日'"
   ],
   "metadata": {
    "collapsed": false,
    "ExecuteTime": {
     "end_time": "2024-12-22T15:27:18.110402Z",
     "start_time": "2024-12-22T15:27:18.103157Z"
    }
   },
   "id": "1d59e9db07313eff"
  },
  {
   "cell_type": "code",
   "execution_count": 59,
   "outputs": [
    {
     "data": {
      "text/plain": "'填报单位：南京大学                    填报日期:   2024 年 12月 22日'"
     },
     "execution_count": 59,
     "metadata": {},
     "output_type": "execute_result"
    }
   ],
   "source": [
    "sheet['A2'].value"
   ],
   "metadata": {
    "collapsed": false,
    "ExecuteTime": {
     "end_time": "2024-12-22T15:27:18.965197Z",
     "start_time": "2024-12-22T15:27:18.959332Z"
    }
   },
   "id": "a36930db701a355e"
  },
  {
   "cell_type": "code",
   "execution_count": 41,
   "outputs": [],
   "source": [
    "jilili = {\n",
    "            \"C\": \"南京大学\",\n",
    "            \"D\": \"苏A 6 D 27 U\",\n",
    "            \"E\": \"季丽丽\",\n",
    "            \"F\": \"13913811908\",\n",
    "            \"G\": \"小客车\"\n",
    "        }"
   ],
   "metadata": {
    "collapsed": false,
    "ExecuteTime": {
     "end_time": "2024-12-22T15:13:01.759145Z",
     "start_time": "2024-12-22T15:13:01.756407Z"
    }
   },
   "id": "224caedde39077e1"
  },
  {
   "cell_type": "code",
   "execution_count": 42,
   "outputs": [],
   "source": [
    "sheet.append(jilili)"
   ],
   "metadata": {
    "collapsed": false,
    "ExecuteTime": {
     "end_time": "2024-12-22T15:13:03.243974Z",
     "start_time": "2024-12-22T15:13:03.239364Z"
    }
   },
   "id": "c975551441642cc1"
  },
  {
   "cell_type": "code",
   "execution_count": 62,
   "outputs": [],
   "source": [
    "# 保存工作簿\n",
    "wb.save(f'{current_month}月{current_day}日 南京大学登岛车辆报备.xlsx')"
   ],
   "metadata": {
    "collapsed": false,
    "ExecuteTime": {
     "end_time": "2024-12-22T15:27:57.695564Z",
     "start_time": "2024-12-22T15:27:57.672205Z"
    }
   },
   "id": "8d6080f0aefd0579"
  },
  {
   "cell_type": "code",
   "execution_count": null,
   "outputs": [],
   "source": [
    "# 创建一个包含单位名称、车牌号、驾驶员姓名、联系号码、车辆型号的字典\n",
    "vehicle_info = {\n",
    "    \"单位名称\": \"南京大学\",\n",
    "    \"车辆信息\": [\n",
    "        {\n",
    "            \"车牌号\": \"苏A 6 D 27 U\",\n",
    "            \"驾驶员姓名\": \"张三\",\n",
    "            \"联系号码\": \"季丽丽\",\n",
    "            \"车辆型号\": \"小客车\"\n",
    "        },\n",
    "        {\n",
    "            \"车牌号\": \"鲁B67890\",\n",
    "            \"驾驶员姓名\": \"李四\",\n",
    "            \"联系号码\": \"13900002222\",\n",
    "            \"车辆型号\": \"解放牌货车\"\n",
    "        },\n",
    "        {\n",
    "            \"车牌号\": \"鲁C54321\",\n",
    "            \"驾驶员姓名\": \"王五\",\n",
    "            \"联系号码\": \"13700003333\",\n",
    "            \"车辆型号\": \"福田牌货车\"\n",
    "        }\n",
    "    ]\n",
    "}"
   ],
   "metadata": {
    "collapsed": false
   },
   "id": "ec49f8dd76784aed"
  },
  {
   "cell_type": "code",
   "execution_count": 60,
   "outputs": [],
   "source": [
    "jilili = {\n",
    "            \"单位名称\": \"南京大学\",\n",
    "            \"车牌号\": \"苏A 6 D 27 U\",\n",
    "            \"驾驶员姓名\": \"季丽丽\",\n",
    "            \"联系号码\": \"13913811908\",\n",
    "            \"车辆型号\": \"小客车\"\n",
    "        }\n",
    "\n",
    "xixinqiang = {\n",
    "            \"单位名称\": \"南京大学\",\n",
    "            \"车牌号\": \"苏AA29981\",\n",
    "            \"驾驶员姓名\": \"习新强\",\n",
    "            \"联系号码\": \"17327736926\",\n",
    "            \"车辆型号\": \"小客车\"\n",
    "        }"
   ],
   "metadata": {
    "collapsed": false,
    "ExecuteTime": {
     "end_time": "2024-12-22T15:27:36.964654Z",
     "start_time": "2024-12-22T15:27:36.961938Z"
    }
   },
   "id": "7ad9c226df04cb84"
  },
  {
   "cell_type": "code",
   "execution_count": 39,
   "outputs": [
    {
     "name": "stdout",
     "output_type": "stream",
     "text": [
      "季丽丽\n"
     ]
    }
   ],
   "source": [
    "print(jilili['驾驶员姓名'])"
   ],
   "metadata": {
    "collapsed": false,
    "ExecuteTime": {
     "end_time": "2024-12-22T15:06:11.660826Z",
     "start_time": "2024-12-22T15:06:11.652429Z"
    }
   },
   "id": "6bf479a20afe2e38"
  },
  {
   "cell_type": "code",
   "execution_count": 61,
   "outputs": [],
   "source": [
    "dengdaoren = [jilili, xixinqiang]\n",
    "for i in dengdaoren:\n",
    "    no = dengdaoren.index(i)\n",
    "    sheet[f'C{7+no}'] = i['单位名称']\n",
    "    sheet[f'D{7+no}'] = i['车牌号']\n",
    "    sheet[f'E{7+no}'] = i['驾驶员姓名']\n",
    "    sheet[f'F{7+no}'] = i['联系号码']\n",
    "    sheet[f'G{7+no}'] = i ['车辆型号']"
   ],
   "metadata": {
    "collapsed": false,
    "ExecuteTime": {
     "end_time": "2024-12-22T15:27:41.648877Z",
     "start_time": "2024-12-22T15:27:41.646154Z"
    }
   },
   "id": "3cbcc48ef2d4e2ef"
  },
  {
   "cell_type": "code",
   "execution_count": null,
   "outputs": [],
   "source": [],
   "metadata": {
    "collapsed": false
   },
   "id": "b4d474e27dd7b0ce"
  }
 ],
 "metadata": {
  "kernelspec": {
   "display_name": "Python 3",
   "language": "python",
   "name": "python3"
  },
  "language_info": {
   "codemirror_mode": {
    "name": "ipython",
    "version": 2
   },
   "file_extension": ".py",
   "mimetype": "text/x-python",
   "name": "python",
   "nbconvert_exporter": "python",
   "pygments_lexer": "ipython2",
   "version": "2.7.6"
  }
 },
 "nbformat": 4,
 "nbformat_minor": 5
}
