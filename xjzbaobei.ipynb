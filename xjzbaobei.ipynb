{
 "cells": [
  {
   "metadata": {},
   "cell_type": "markdown",
   "source": "# 登岛人员",
   "id": "540563516b313deb"
  },
  {
   "cell_type": "code",
   "id": "initial_id",
   "metadata": {
    "collapsed": true,
    "ExecuteTime": {
     "end_time": "2024-12-23T13:33:01.477486Z",
     "start_time": "2024-12-23T13:33:01.448704Z"
    }
   },
   "source": [
    "from datetime import datetime, timedelta\n",
    "from openpyxl import load_workbook\n",
    "from openpyxl import Workbook\n",
    "from xjzbaobei_ren_dic import *\n",
    "\n",
    "############################################################\n",
    "dengdaorenyuan = [jilili]\n",
    "############################################################\n",
    "\n",
    "# 获取当前日期和时间\n",
    "current_date = datetime.now()\n",
    "\n",
    "# 计算明天的日期\n",
    "tomorrow = current_date + timedelta(days=1)\n",
    "tomorrow_month = tomorrow.month\n",
    "tomorrow_day = tomorrow.day\n",
    "\n",
    "# 读取文件\n",
    "file_path = 'D:/GS/xjz/新济州报备/'\n",
    "\n",
    "# 加载已有的 Excel 文件\n",
    "wb_h = load_workbook(file_path + '12月18日 南京大学上岛人员报备表.xlsx')\n",
    "# 获取工作表\n",
    "sheet_h = wb_h['Sheet1']\n",
    "\n",
    "# 修改表格的内容\n",
    "sheet_h['A2'] = f'填报单位：南京大学                    填报日期:   2024 年 {tomorrow_month}月 {tomorrow_day}日'\n",
    "\n",
    "for i in dengdaorenyuan:\n",
    "    no = dengdaorenyuan.index(i)\n",
    "    sheet_h[f'B{7+no}'] = no + 1\n",
    "    sheet_h[f'C{7+no}'] = i['姓名']\n",
    "    sheet_h[f'D{7+no}'] = i['年龄']\n",
    "    sheet_h[f'E{7+no}'] = i['现居地']\n",
    "    sheet_h[f'F{7+no}'] = i['身份证号码']\n",
    "    sheet_h[f'G{7+no}'] = i['联系电话']\n",
    "\n",
    "# 保存工作簿\n",
    "wb_h.save(file_path + f'{tomorrow_month}月{tomorrow_day}日 南京大学上岛人员报备表.xlsx')"
   ],
   "outputs": [],
   "execution_count": 4
  },
  {
   "metadata": {},
   "cell_type": "markdown",
   "source": "# 登岛车辆",
   "id": "d367e4d5cc3c2922"
  },
  {
   "metadata": {
    "ExecuteTime": {
     "end_time": "2024-12-23T13:33:02.633725Z",
     "start_time": "2024-12-23T13:33:02.606245Z"
    }
   },
   "cell_type": "code",
   "source": [
    "from datetime import datetime, timedelta\n",
    "from openpyxl import load_workbook\n",
    "from openpyxl import Workbook\n",
    "from xjzbaobei_dic import *\n",
    "\n",
    "############################################################\n",
    "dengdaocheliang = [jilili]\n",
    "############################################################\n",
    "\n",
    "# 获取当前日期和时间\n",
    "current_date = datetime.now()\n",
    "\n",
    "# 计算明天的日期\n",
    "tomorrow = current_date + timedelta(days=1)\n",
    "tomorrow_month = tomorrow.month\n",
    "tomorrow_day = tomorrow.day\n",
    "\n",
    "# 读取文件\n",
    "file_path = 'D:/GS/xjz/新济州报备/'\n",
    "print(file_path + '12月13日 南京大学登岛车辆报备.xlsx')\n",
    "\n",
    "# 加载已有的 Excel 文件\n",
    "wb_car = load_workbook(file_path + '12月13日 南京大学登岛车辆报备.xlsx')\n",
    "# 获取工作表\n",
    "sheet_car = wb_car['Sheet1']\n",
    "\n",
    "# 修改表格的内容\n",
    "sheet_car['A2'] = f'填报单位：南京大学                    填报日期:   2024 年 {tomorrow_month}月 {tomorrow_day}日'\n",
    "\n",
    "for i in dengdaocheliang:\n",
    "    no = dengdaocheliang.index(i)\n",
    "    sheet_car[f'B{7+no}'] = no + 1\n",
    "    sheet_car[f'C{7+no}'] = i['单位名称']\n",
    "    sheet_car[f'D{7+no}'] = i['车牌号']\n",
    "    sheet_car[f'E{7+no}'] = i['驾驶员姓名']\n",
    "    sheet_car[f'F{7+no}'] = i['联系号码']\n",
    "    sheet_car[f'G{7+no}'] = i['车辆型号']\n",
    "\n",
    "# 保存工作簿\n",
    "wb_car.save(file_path + f'{tomorrow_month}月{tomorrow_day}日 南京大学登岛车辆报备.xlsx')"
   ],
   "id": "4494423ce572b37b",
   "outputs": [
    {
     "name": "stdout",
     "output_type": "stream",
     "text": [
      "D:/GS/xjz/新济州报备/12月13日 南京大学登岛车辆报备.xlsx\n"
     ]
    }
   ],
   "execution_count": 5
  }
 ],
 "metadata": {
  "kernelspec": {
   "display_name": "Python 3",
   "language": "python",
   "name": "python3"
  },
  "language_info": {
   "codemirror_mode": {
    "name": "ipython",
    "version": 2
   },
   "file_extension": ".py",
   "mimetype": "text/x-python",
   "name": "python",
   "nbconvert_exporter": "python",
   "pygments_lexer": "ipython2",
   "version": "2.7.6"
  }
 },
 "nbformat": 4,
 "nbformat_minor": 5
}
